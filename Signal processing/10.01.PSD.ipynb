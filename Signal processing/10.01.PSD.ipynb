{
 "cells": [
  {
   "cell_type": "markdown",
   "metadata": {},
   "source": [
    "# Magnitude spectrun of a FFT of a sine wave"
   ]
  },
  {
   "cell_type": "code",
   "execution_count": 1,
   "metadata": {},
   "outputs": [],
   "source": [
    "import numpy as np\n",
    "import matplotlib.pyplot as plt \n",
    "%matplotlib widget"
   ]
  },
  {
   "cell_type": "code",
   "execution_count": null,
   "metadata": {},
   "outputs": [],
   "source": [
    "f = 1.0 # xt frequency\n",
    "sampling_freq = 100 \n",
    "t = np.linspace(0, 1, num=sampling_freq) # time intervals\n",
    "xt = np.sin(2*np.pi*t*f) #xt is x(t) which is the sin signal\n",
    "\n",
    "plt.figure('Sin Wave', figsize=(10,5))\n",
    "plt.plot(t, xt)\n",
    "plt.xlabel('t')\n",
    "plt.ylabel('signal amplitude')\n",
    "\n",
    "plt.grid()\n",
    "plt.show()\n",
    "\n",
    "# np.fft.fft(xt)) gives the FFT of the signal. The result is a complex array with both magnitude and phase\n",
    "# np.abs(...) gives only the magnitude which represents the amplitude of the signal\n",
    "# np.fft.fftshift(...) Shifts the zero-frequency component to the center of the spectrum for better visualization.\n",
    "fft_signal = np.fft.fftshift(np.abs(np.fft.fft(xt)))\n",
    "#visualizing the frequency components of the signal using a centered frequency axis.  \n",
    "xax = np.arange(-np.int64(sampling_freq/2),np.int64(sampling_freq/2)) \n",
    "\n",
    "plt.figure('Magnitude Spectrum', figsize=(10,5))\n",
    "plt.plot(xax, fft_signal,'o-')\n",
    "plt.xlabel('frequency')\n",
    "plt.ylabel('fft_signal')\n",
    "\n",
    "plt.grid()\n",
    "plt.show()"
   ]
  },
  {
   "cell_type": "markdown",
   "metadata": {},
   "source": [
    "# PSD analysis \n",
    "\n",
    "PSD measures the power distribution of a signal per unit frequency. \\\n",
    "It is given by: $PSD= \\frac{∣FFT(signal)∣^2}{N}$ where $N$ is the number of samples. \n",
    "\n",
    "PSD focuses on power (proportional to the square of the magnitude) rather than amplitude."
   ]
  },
  {
   "cell_type": "code",
   "execution_count": null,
   "metadata": {},
   "outputs": [],
   "source": [
    "# Compute the Power Spectral Density (PSD)\n",
    "psd_signal = (np.abs(np.fft.fft(xt)) ** 2) / sampling_freq\n",
    "\n",
    "# Shift the PSD for centered visualization\n",
    "psd_signal = np.fft.fftshift(psd_signal)\n",
    "\n",
    "# Frequency axis remains the same\n",
    "plt.figure(figsize=(10,5))\n",
    "plt.plot(xax, psd_signal, 'o-')\n",
    "plt.title('Power Spectral Density')\n",
    "plt.xlabel('Frequency (Hz)')\n",
    "plt.ylabel('Power')"
   ]
  },
  {
   "cell_type": "markdown",
   "metadata": {},
   "source": [
    "# Magnitude Spectrum of a FFT of the sin wave with noise"
   ]
  },
  {
   "cell_type": "code",
   "execution_count": null,
   "metadata": {},
   "outputs": [],
   "source": [
    "f = 100\n",
    "sampling_freq = 128\n",
    "sampling_rate = 1/sampling_freq # sampling rate\n",
    "nyquist_rate = 256 \n",
    "snr_db = 0; # target SNR in dB. \n",
    "# 0 SNR means the signal and noise have the same intensity.\n",
    "# +ve SNR means the intensity of the signal is higher than the noise\n",
    "# -ve SNR means the intensity of the signal is lower than the noise\n",
    "t = np.linspace(0, nyquist_rate*sampling_rate, nyquist_rate)\n",
    "xt = np.sin(2*np.pi*f*t)\n",
    "sig_fft = np.fft.fftshift(np.abs(np.fft.fft(xt)))\n",
    "x_freq = np.arange(-np.int64(nyquist_rate/2),np.int64(nyquist_rate/2))*sampling_freq/nyquist_rate\n",
    "\n",
    "mean_pow_db = 10*np.log10(np.mean(xt**2))\n",
    "noise_db = mean_pow_db - snr_db # noise power in dB\n",
    "noise_lin_amp = 10**(noise_db/20); # noise in linear scale (to voltage or amplitude scale)\n",
    "mean_pow_db = 10*np.log10(np.mean(xt**2))\n",
    "noise_samps = np.random.normal(0,noise_lin_amp,len(xt))\n",
    "\n",
    "sig_n = xt + noise_samps\n",
    "sig_fftn = np.fft.fftshift(np.abs(np.fft.fft(sig_n)))\n",
    "\n",
    "plt.figure(figsize=(10,5))\n",
    "plt.title('Signal with noise')\n",
    "plt.plot(t, xt, label='signal')\n",
    "plt.plot(t, sig_n, label='noise')\n",
    "plt.xlabel('time')\n",
    "plt.ylabel('amplitude')\n",
    "plt.legend()\n",
    "\n",
    "plt.figure(figsize=(10,5))\n",
    "plt.title('Magnitude spectrum')\n",
    "plt.plot(x_freq, sig_fft, label = 'signal')\n",
    "plt.plot(x_freq, sig_fftn, label='noise')\n",
    "plt.xlabel('time')\n",
    "plt.ylabel('amplitude')\n",
    "plt.legend()\n",
    "\n",
    "plt.show()"
   ]
  }
 ],
 "metadata": {
  "kernelspec": {
   "display_name": "thesis",
   "language": "python",
   "name": "thesis"
  },
  "language_info": {
   "codemirror_mode": {
    "name": "ipython",
    "version": 3
   },
   "file_extension": ".py",
   "mimetype": "text/x-python",
   "name": "python",
   "nbconvert_exporter": "python",
   "pygments_lexer": "ipython3",
   "version": "3.11.8"
  }
 },
 "nbformat": 4,
 "nbformat_minor": 2
}
