{
 "cells": [
  {
   "cell_type": "markdown",
   "metadata": {},
   "source": [
    "# Simple Sine Wave"
   ]
  },
  {
   "cell_type": "code",
   "execution_count": 16,
   "metadata": {},
   "outputs": [],
   "source": [
    "import numpy as np \n",
    "import matplotlib. pyplot as plt \n",
    "import scipy.signal"
   ]
  },
  {
   "cell_type": "markdown",
   "metadata": {},
   "source": [
    "Defining $x(t)=sin(2pi.f.t)$ and plotting from $t=(1,1)$"
   ]
  },
  {
   "cell_type": "code",
   "execution_count": null,
   "metadata": {},
   "outputs": [],
   "source": [
    "f = 2 # in Hz\n",
    "t = np.linspace(-1,1,num=1000) # num is the number of samples to generate\n",
    "xt = np.sin(2*np.pi*t*f) # xt is basically x(t)\n",
    "\n",
    "plt.figure(figsize=(12,5))\n",
    "plt.plot(t,xt)\n",
    "\n",
    "plt.title('Sine wave')\n",
    "plt.xlabel('time')\n",
    "plt.ylabel('amplitude')\n",
    "plt.axhline(0)"
   ]
  },
  {
   "cell_type": "markdown",
   "metadata": {},
   "source": [
    "# Important definitions\n",
    "\n",
    "Nyquist Theorem: The sampling frequency must be atleast twice the maximum frequency in the original signal, to prevent aliasing.\n",
    "\n",
    "Nyquist frequency = Twice the sampling frequency.\n",
    "\n",
    "Nyquist rate = $\\frac{1}{Nyquist\\ frequency}$\n",
    "\n",
    "Aliasing: It is the overlap of frequency components resulting from the sampling rate being lower than the nyquist rate.\n",
    "\n",
    "Sampling frequency: The frequency at which  we sample the signal. Unit: $\\frac {samples}{second}$\n",
    "\n",
    "Sampling period aka Sampling rate : $\\frac{1}{Sampling\\ frequency}$"
   ]
  },
  {
   "cell_type": "markdown",
   "metadata": {},
   "source": [
    "# Sampling the signal"
   ]
  },
  {
   "cell_type": "code",
   "execution_count": null,
   "metadata": {},
   "outputs": [],
   "source": [
    "sampling_freq = 5 # atleast twice the signal frequency (f)\n",
    "sampling_period = 1/sampling_freq # gives the time of a single sampling interval\n",
    "pulse_train = np.arange(-1, 1, step=sampling_period) # here step defines the steps of increase in value from -1 to 1\n",
    "# pulse train is the time instants at which the sine wave will be sampled.\n",
    "\n",
    "plt.figure(figsize=(12,5))\n",
    "plt.stem(pulse_train, np.ones(len(pulse_train)))\n",
    "\n",
    "plt.title('Pulse Train')\n",
    "plt.xlabel('time')\n",
    "plt.ylabel('amplitude')\n",
    "# the stem plot shows the quantization"
   ]
  },
  {
   "cell_type": "code",
   "execution_count": null,
   "metadata": {},
   "outputs": [],
   "source": [
    "xt_sampled = np.sin(2*np.pi*f*pulse_train)\n",
    "\n",
    "plt.figure(figsize=(12,5))\n",
    "plt.stem(pulse_train, xt_sampled, label='Sampled signal')\n",
    "plt.plot(t, xt, 'g', label = 'Original signal')\n",
    "\n",
    "plt.title(\"Sampling\")\n",
    "plt.xlabel('time')\n",
    "plt.ylabel('amplitude')\n",
    "plt.legend()"
   ]
  },
  {
   "cell_type": "markdown",
   "metadata": {},
   "source": [
    "# Signal Recovery\n",
    "To go back from the sampled signal to the time domain we just interpolate between the blue points. This is done using the resample function from the scipy.signal library which does a FFT."
   ]
  },
  {
   "cell_type": "code",
   "execution_count": null,
   "metadata": {},
   "outputs": [],
   "source": [
    "xt_resampled, t_resampled = scipy.signal.resample(xt_sampled, 1000, pulse_train) # 1000 is the end number of points that we want.\n",
    "\n",
    "plt.figure(figsize=(12,5))\n",
    "plt.plot(t_resampled, xt_resampled, label= 'resampled signal')\n",
    "plt.plot(t, xt, 'r--', label = 'original signal')\n",
    "\n",
    "plt.title('Signal recovery')\n",
    "plt.xlabel('time')\n",
    "plt.ylabel('amplitude')\n",
    "plt.legend()"
   ]
  },
  {
   "cell_type": "markdown",
   "metadata": {},
   "source": [
    "# Signal frequency = Sampling Frequency\n",
    "\n",
    "Only one sample is taken from each period leading to a flat line."
   ]
  },
  {
   "cell_type": "code",
   "execution_count": null,
   "metadata": {},
   "outputs": [],
   "source": [
    "f = 2 # Signal frequency in Hz\n",
    "t = np.linspace(-1,1,1000)\n",
    "xt = np.sin(2*np.pi*t*f) # xt is basically x(t)\n",
    "\n",
    "sampling_freq = 2 # atleast twice the signal frequency (f)\n",
    "sampling_period = 1/sampling_freq # gives the time of a single sampling interval\n",
    "pulse_train = np.arange(-1, 1, sampling_period)\n",
    "\n",
    "xt_sampled = np.sin(2*np.pi*f*pulse_train)\n",
    "\n",
    "plt.figure(figsize=(12,5))\n",
    "plt.stem(pulse_train, xt_sampled, label='Sampled signal')\n",
    "plt.plot(t, xt, 'g', label = 'Original signal')\n",
    "\n",
    "plt.title('Sampling frequency = Signal frequency')\n",
    "plt.xlabel('time')\n",
    "plt.ylabel('amplitude')\n",
    "plt.legend()"
   ]
  },
  {
   "cell_type": "markdown",
   "metadata": {},
   "source": [
    "# Sampling frequency < Nyquist Frequency"
   ]
  },
  {
   "cell_type": "code",
   "execution_count": null,
   "metadata": {},
   "outputs": [],
   "source": [
    "f = 7 # Signal frequency in Hz\n",
    "t = np.linspace(-1,1,1000)\n",
    "xt = np.sin(2*np.pi*t*f) # xt is basically x(t)\n",
    "\n",
    "sampling_freq = 5 # atleast twice the signal frequency (f)\n",
    "sampling_period = 1/sampling_freq # gives the time of a single sampling interval\n",
    "pulse_train = np.arange(-1, 1, sampling_period)\n",
    "\n",
    "xt_sampled = np.sin(2*np.pi*f*pulse_train)\n",
    "\n",
    "plt.figure(figsize=(12,5))\n",
    "plt.stem(pulse_train, xt_sampled, label='Sampled signal')\n",
    "plt.plot(t, xt, 'g', label = 'Original signal')\n",
    "\n",
    "plt.title('Sampling frequency = Signal frequency')\n",
    "plt.xlabel('time')\n",
    "plt.ylabel('amplitude')\n",
    "plt.legend()"
   ]
  },
  {
   "cell_type": "markdown",
   "metadata": {},
   "source": [
    "This causes Aliasing in the resampled signal. This results in the resamples frequency being of much lower frequency that the original signal. "
   ]
  },
  {
   "cell_type": "code",
   "execution_count": null,
   "metadata": {},
   "outputs": [],
   "source": [
    "xt_resampled, t_resampled = scipy.signal.resample(xt_sampled, 1000, pulse_train) # 1000 is the end number of points that we want.\n",
    "\n",
    "plt.figure(figsize=(12,5))\n",
    "plt.plot(t_resampled, xt_resampled, label= 'resampled signal')\n",
    "plt.plot(t, xt, 'r--', label = 'original signal')\n",
    "\n",
    "plt.title('Signal recovery')\n",
    "plt.xlabel('time')\n",
    "plt.ylabel('amplitude')\n",
    "plt.legend()"
   ]
  },
  {
   "cell_type": "markdown",
   "metadata": {},
   "source": [
    "# Sampling Frequency = Nyquist Frequency\n",
    "\n",
    "Exactly two samples will be taken from each period"
   ]
  },
  {
   "cell_type": "code",
   "execution_count": null,
   "metadata": {},
   "outputs": [],
   "source": [
    "f = 4 # Signal frequency in Hz\n",
    "t = np.linspace(-1,1,1000)\n",
    "xt = np.sin(2*np.pi*t*f) # xt is basically x(t)\n",
    "\n",
    "sampling_freq = 4 # atleast twice the signal frequency (f)\n",
    "sampling_period = 1/sampling_freq # gives the time of a single sampling interval\n",
    "pulse_train = np.arange(-1, 1, sampling_period)\n",
    "\n",
    "xt_sampled = np.sin(2*np.pi*f*pulse_train)\n",
    "\n",
    "plt.figure(figsize=(12,5))\n",
    "plt.stem(pulse_train, xt_sampled, label='Sampled signal')\n",
    "plt.plot(t, xt, 'g', label = 'Original signal')\n",
    "\n",
    "plt.title('Sampling frequency = Signal frequency')\n",
    "plt.xlabel('time')\n",
    "plt.ylabel('amplitude')\n",
    "plt.legend()"
   ]
  }
 ],
 "metadata": {
  "kernelspec": {
   "display_name": "thesis",
   "language": "python",
   "name": "thesis"
  },
  "language_info": {
   "codemirror_mode": {
    "name": "ipython",
    "version": 3
   },
   "file_extension": ".py",
   "mimetype": "text/x-python",
   "name": "python",
   "nbconvert_exporter": "python",
   "pygments_lexer": "ipython3",
   "version": "3.11.8"
  }
 },
 "nbformat": 4,
 "nbformat_minor": 2
}
