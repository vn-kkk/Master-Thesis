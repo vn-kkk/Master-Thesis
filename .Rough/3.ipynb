{
 "cells": [
  {
   "cell_type": "code",
   "execution_count": 1,
   "metadata": {},
   "outputs": [],
   "source": [
    "import bilby\n",
    "from copy import deepcopy\n",
    "import numpy as np"
   ]
  },
  {
   "cell_type": "code",
   "execution_count": 11,
   "metadata": {},
   "outputs": [
    {
     "data": {
      "text/plain": [
       "{'mass_1': 1.5,\n",
       " 'mass_2': 1.3,\n",
       " 'chi_1': 0.02,\n",
       " 'chi_2': 0.02,\n",
       " 'luminosity_distance': 50.0,\n",
       " 'theta_jn': 0.4,\n",
       " 'psi': 2.659,\n",
       " 'phase': 1.3,\n",
       " 'geocent_time': 1126259642.413,\n",
       " 'ra': 1.375,\n",
       " 'dec': -1.2108,\n",
       " 'lambda_1': 545.0,\n",
       " 'lambda_2': 1346.0,\n",
       " 'fiducial': 1,\n",
       " 'a_1': 0.02,\n",
       " 'a_2': 0.02}"
      ]
     },
     "execution_count": 11,
     "metadata": {},
     "output_type": "execute_result"
    }
   ],
   "source": [
    "injection_parameters = dict(\n",
    "# Mass parameters\n",
    "    mass_1=1.5,\n",
    "    mass_2=1.3,\n",
    "\n",
    "# Spin parameters\n",
    "    chi_1=0.02,\n",
    "    chi_2=0.02,\n",
    "\n",
    "# Distance parameter\n",
    "    luminosity_distance=50.0,\n",
    "\n",
    "# Angular orientation parameters\n",
    "    theta_jn=0.4,\n",
    "    psi=2.659,\n",
    "    phase=1.3,\n",
    "\n",
    "# Time parameter\n",
    "    geocent_time=1126259642.413,\n",
    "\n",
    "# Sky Location\n",
    "    ra=1.375,\n",
    "    dec=-1.2108,\n",
    "\n",
    "# Tidal Deformability parameters\n",
    "    lambda_1=545.0,\n",
    "    lambda_2=1346.0,\n",
    "\n",
    "# Serves as a reference marker for the injection parameters.\n",
    "    fiducial=1, # Used while reweighting to identify the injection parameters\n",
    ")\n",
    "injection_parameters[\"a_1\"] = injection_parameters[\"chi_1\"]\n",
    "injection_parameters[\"a_2\"] = injection_parameters[\"chi_2\"]\n",
    "\n",
    "injection_parameters"
   ]
  },
  {
   "cell_type": "code",
   "execution_count": 3,
   "metadata": {},
   "outputs": [
    {
     "name": "stderr",
     "output_type": "stream",
     "text": [
      "13:48 bilby INFO    : Waveform generator initiated with\n",
      "  frequency_domain_source_model: bilby.gw.source.lal_binary_neutron_star_relative_binning\n",
      "  time_domain_source_model: None\n",
      "  parameter_conversion: bilby.gw.conversion.convert_to_lal_binary_neutron_star_parameters\n"
     ]
    }
   ],
   "source": [
    "################################ WAVEFORM MODEL ################################\n",
    "\n",
    "\n",
    "# Set the duration and sampling frequency of the data segment that we're\n",
    "# going to inject the signal into\n",
    "duration = 32\n",
    "sampling_frequency = 2048.0\n",
    "minimum_frequency = 40.0\n",
    "start_time = injection_parameters[\"geocent_time\"] + 2 - duration\n",
    "\n",
    "# Fixed arguments passed into the source model\n",
    "waveform_arguments = dict(\n",
    "    waveform_approximant=\"IMRPhenomPv2_NRTidal\", # A phenomenological \n",
    "                         # Inspiral-Merger-Ringdown model for a BNS\n",
    "    reference_frequency=50.0,\n",
    "    minimum_frequency=minimum_frequency,\n",
    ")\n",
    "\n",
    "# Create the waveform_generator using a LAL BinaryBlackHole source function\n",
    "waveform_generator = bilby.gw.WaveformGenerator(\n",
    "    duration=duration,\n",
    "    sampling_frequency=sampling_frequency,\n",
    "    # frequency_domain_source_model=bilby.gw.source.lal_binary_neutron_star,\n",
    "    frequency_domain_source_model=bilby.gw.source.lal_binary_neutron_star_relative_binning,\n",
    "    parameter_conversion=bilby.gw.conversion.convert_to_lal_binary_neutron_star_parameters,\n",
    "    waveform_arguments=waveform_arguments,\n",
    ")\n"
   ]
  },
  {
   "cell_type": "code",
   "execution_count": 4,
   "metadata": {},
   "outputs": [
    {
     "name": "stderr",
     "output_type": "stream",
     "text": [
      "/home/kay/anaconda3/envs/thesis/lib/python3.11/site-packages/lalsimulation/lalsimulation.py:8: UserWarning: Wswiglal-redir-stdio:\n",
      "\n",
      "SWIGLAL standard output/error redirection is enabled in IPython.\n",
      "This may lead to performance penalties. To disable locally, use:\n",
      "\n",
      "with lal.no_swig_redirect_standard_output_error():\n",
      "    ...\n",
      "\n",
      "To disable globally, use:\n",
      "\n",
      "lal.swig_redirect_standard_output_error(False)\n",
      "\n",
      "Note however that this will likely lead to error messages from\n",
      "LAL functions being either misdirected or lost when called from\n",
      "Jupyter notebooks.\n",
      "\n",
      "To suppress this warning, use:\n",
      "\n",
      "import warnings\n",
      "warnings.filterwarnings(\"ignore\", \"Wswiglal-redir-stdio\")\n",
      "import lal\n",
      "\n",
      "  import lal\n",
      "13:48 bilby INFO    : Injected signal in H1:\n",
      "13:48 bilby INFO    :   optimal SNR = 34.44\n",
      "13:48 bilby INFO    :   matched filter SNR = 34.58+0.89j\n",
      "13:48 bilby INFO    :   mass_1 = 1.5\n",
      "13:48 bilby INFO    :   mass_2 = 1.3\n",
      "13:48 bilby INFO    :   chi_1 = 0.02\n",
      "13:48 bilby INFO    :   chi_2 = 0.02\n",
      "13:48 bilby INFO    :   luminosity_distance = 50.0\n",
      "13:48 bilby INFO    :   theta_jn = 0.4\n",
      "13:48 bilby INFO    :   psi = 2.659\n",
      "13:48 bilby INFO    :   phase = 1.3\n",
      "13:48 bilby INFO    :   geocent_time = 1126259642.413\n",
      "13:48 bilby INFO    :   ra = 1.375\n",
      "13:48 bilby INFO    :   dec = -1.2108\n",
      "13:48 bilby INFO    :   lambda_1 = 545.0\n",
      "13:48 bilby INFO    :   lambda_2 = 1346.0\n",
      "13:48 bilby INFO    :   fiducial = 1\n",
      "13:48 bilby INFO    : Injected signal in L1:\n",
      "13:48 bilby INFO    :   optimal SNR = 27.88\n",
      "13:48 bilby INFO    :   matched filter SNR = 27.80+1.01j\n",
      "13:48 bilby INFO    :   mass_1 = 1.5\n",
      "13:48 bilby INFO    :   mass_2 = 1.3\n",
      "13:48 bilby INFO    :   chi_1 = 0.02\n",
      "13:48 bilby INFO    :   chi_2 = 0.02\n",
      "13:48 bilby INFO    :   luminosity_distance = 50.0\n",
      "13:48 bilby INFO    :   theta_jn = 0.4\n",
      "13:48 bilby INFO    :   psi = 2.659\n",
      "13:48 bilby INFO    :   phase = 1.3\n",
      "13:48 bilby INFO    :   geocent_time = 1126259642.413\n",
      "13:48 bilby INFO    :   ra = 1.375\n",
      "13:48 bilby INFO    :   dec = -1.2108\n",
      "13:48 bilby INFO    :   lambda_1 = 545.0\n",
      "13:48 bilby INFO    :   lambda_2 = 1346.0\n",
      "13:48 bilby INFO    :   fiducial = 1\n",
      "13:48 bilby INFO    : Injected signal in V1:\n",
      "13:48 bilby INFO    :   optimal SNR = 29.56\n",
      "13:48 bilby INFO    :   matched filter SNR = 29.62+0.95j\n",
      "13:48 bilby INFO    :   mass_1 = 1.5\n",
      "13:48 bilby INFO    :   mass_2 = 1.3\n",
      "13:48 bilby INFO    :   chi_1 = 0.02\n",
      "13:48 bilby INFO    :   chi_2 = 0.02\n",
      "13:48 bilby INFO    :   luminosity_distance = 50.0\n",
      "13:48 bilby INFO    :   theta_jn = 0.4\n",
      "13:48 bilby INFO    :   psi = 2.659\n",
      "13:48 bilby INFO    :   phase = 1.3\n",
      "13:48 bilby INFO    :   geocent_time = 1126259642.413\n",
      "13:48 bilby INFO    :   ra = 1.375\n",
      "13:48 bilby INFO    :   dec = -1.2108\n",
      "13:48 bilby INFO    :   lambda_1 = 545.0\n",
      "13:48 bilby INFO    :   lambda_2 = 1346.0\n",
      "13:48 bilby INFO    :   fiducial = 1\n"
     ]
    },
    {
     "data": {
      "text/plain": [
       "[{'plus': array([ 0.00000000e+00-0.00000000e+00j,  0.00000000e+00-0.00000000e+00j,\n",
       "          0.00000000e+00-0.00000000e+00j, ...,\n",
       "         -4.23008636e-25+7.98210938e-26j, -4.23011798e-25+7.97089719e-26j,\n",
       "          0.00000000e+00-0.00000000e+00j]),\n",
       "  'cross': array([0.00000000e+00+0.00000000e+00j, 0.00000000e+00+0.00000000e+00j,\n",
       "         0.00000000e+00+0.00000000e+00j, ...,\n",
       "         7.95519924e-26+4.21582544e-25j, 7.94402485e-26+4.21585695e-25j,\n",
       "         0.00000000e+00+0.00000000e+00j])},\n",
       " {'plus': array([ 0.00000000e+00-0.00000000e+00j,  0.00000000e+00-0.00000000e+00j,\n",
       "          0.00000000e+00-0.00000000e+00j, ...,\n",
       "         -4.23008636e-25+7.98210938e-26j, -4.23011798e-25+7.97089719e-26j,\n",
       "          0.00000000e+00-0.00000000e+00j]),\n",
       "  'cross': array([0.00000000e+00+0.00000000e+00j, 0.00000000e+00+0.00000000e+00j,\n",
       "         0.00000000e+00+0.00000000e+00j, ...,\n",
       "         7.95519924e-26+4.21582544e-25j, 7.94402485e-26+4.21585695e-25j,\n",
       "         0.00000000e+00+0.00000000e+00j])},\n",
       " {'plus': array([ 0.00000000e+00-0.00000000e+00j,  0.00000000e+00-0.00000000e+00j,\n",
       "          0.00000000e+00-0.00000000e+00j, ...,\n",
       "         -4.23008636e-25+7.98210938e-26j, -4.23011798e-25+7.97089719e-26j,\n",
       "          0.00000000e+00-0.00000000e+00j]),\n",
       "  'cross': array([0.00000000e+00+0.00000000e+00j, 0.00000000e+00+0.00000000e+00j,\n",
       "         0.00000000e+00+0.00000000e+00j, ...,\n",
       "         7.95519924e-26+4.21582544e-25j, 7.94402485e-26+4.21585695e-25j,\n",
       "         0.00000000e+00+0.00000000e+00j])}]"
      ]
     },
     "execution_count": 4,
     "metadata": {},
     "output_type": "execute_result"
    }
   ],
   "source": [
    "################################### DETECTOR ###################################\n",
    "\n",
    "\n",
    "# Set up interferometers.  In this case we'll use three interferometers\n",
    "# (LIGO-Hanford (H1), LIGO-Livingston (L1) and Virgo (V1)).\n",
    "# These default to their design sensitivity\n",
    "ifos = bilby.gw.detector.InterferometerList([\"H1\", \"L1\", \"V1\"])\n",
    "for interferometer in ifos:\n",
    "    interferometer.minimum_frequency = 40\n",
    "ifos.set_strain_data_from_power_spectral_densities(\n",
    "    sampling_frequency=sampling_frequency,\n",
    "    duration=duration,\n",
    "    start_time=start_time,\n",
    ")\n",
    "ifos.inject_signal(\n",
    "    waveform_generator=waveform_generator, parameters=injection_parameters\n",
    ")\n"
   ]
  },
  {
   "cell_type": "code",
   "execution_count": 5,
   "metadata": {},
   "outputs": [
    {
     "name": "stderr",
     "output_type": "stream",
     "text": [
      "13:48 bilby INFO    : No prior given, using default BNS priors in /home/kay/anaconda3/envs/thesis/lib/python3.11/site-packages/bilby/gw/prior_files/aligned_spins_bns_tides_on.prior.\n"
     ]
    },
    {
     "data": {
      "text/plain": [
       "{'mass_1': Constraint(minimum=0.5, maximum=5, name='mass_1', latex_label='$m_1$', unit=None),\n",
       " 'mass_2': Constraint(minimum=0.5, maximum=5, name='mass_2', latex_label='$m_2$', unit=None),\n",
       " 'mass_ratio': bilby.gw.prior.UniformInComponentsMassRatio(minimum=0.125, maximum=1, name='mass_ratio', latex_label='$q$', unit=None, boundary=None, equal_mass=False),\n",
       " 'chirp_mass': bilby.gw.prior.UniformInComponentsChirpMass(minimum=0.4, maximum=4.4, name='chirp_mass', latex_label='$\\\\mathcal{M}$', unit=None, boundary=None),\n",
       " 'luminosity_distance': bilby.gw.prior.UniformSourceFrame(minimum=100.0, maximum=5000.0, cosmology='Planck15', name='luminosity_distance', latex_label='$d_L$', unit='Mpc', boundary=None),\n",
       " 'dec': -1.2108,\n",
       " 'ra': 1.375,\n",
       " 'theta_jn': 0.4,\n",
       " 'psi': 2.659,\n",
       " 'phase': 1.3,\n",
       " 'chi_1': 0.02,\n",
       " 'chi_2': 0.02,\n",
       " 'lambda_1': Uniform(minimum=0, maximum=5000, name='lambda_1', latex_label='$\\\\Lambda_1$', unit=None, boundary=None),\n",
       " 'lambda_2': Uniform(minimum=0, maximum=5000, name='lambda_2', latex_label='$\\\\Lambda_2$', unit=None, boundary=None),\n",
       " 'geocent_time': 1126259642.413}"
      ]
     },
     "execution_count": 5,
     "metadata": {},
     "output_type": "execute_result"
    }
   ],
   "source": [
    "priors = bilby.gw.prior.BNSPriorDict()\n",
    "for key in [\n",
    "    \"psi\",\n",
    "    \"geocent_time\",\n",
    "    \"ra\",\n",
    "    \"dec\",\n",
    "    \"chi_1\",\n",
    "    \"chi_2\",\n",
    "    \"theta_jn\",\n",
    "    \"phase\",\n",
    "]:\n",
    "    priors[key] = injection_parameters[key]\n",
    "priors"
   ]
  },
  {
   "cell_type": "code",
   "execution_count": 6,
   "metadata": {},
   "outputs": [
    {
     "data": {
      "text/plain": [
       "{'mass_1': Constraint(minimum=0.5, maximum=5, name='mass_1', latex_label='$m_1$', unit=None),\n",
       " 'mass_2': Constraint(minimum=0.5, maximum=5, name='mass_2', latex_label='$m_2$', unit=None),\n",
       " 'chirp_mass': Gaussian(mu=1.215, sigma=0.1, name='chirp_mass', latex_label='$\\\\mathcal{M}$', unit='$M_{\\\\odot}$', boundary=None),\n",
       " 'luminosity_distance': bilby.gw.prior.UniformSourceFrame(minimum=100.0, maximum=5000.0, cosmology='Planck15', name='luminosity_distance', latex_label='$d_L$', unit='Mpc', boundary=None),\n",
       " 'dec': -1.2108,\n",
       " 'ra': 1.375,\n",
       " 'theta_jn': 0.4,\n",
       " 'psi': 2.659,\n",
       " 'phase': 1.3,\n",
       " 'chi_1': 0.02,\n",
       " 'chi_2': 0.02,\n",
       " 'geocent_time': 1126259642.413,\n",
       " 'symmetric_mass_ratio': Uniform(minimum=0.1, maximum=0.25, name='symmetric_mass_ratio', latex_label='$\\\\eta$', unit=None, boundary=None),\n",
       " 'lambda_tilde': Constraint(minimum=0, maximum=5000, name='lambda_tilde', latex_label='$\\\\tilde{\\\\Lambda}$', unit=None),\n",
       " 'delta_lambda_tilde': Constraint(minimum=-500, maximum=1000, name='delta_lambda_tilde', latex_label='$\\\\delta\\\\tilde{\\\\Lambda}$', unit=None),\n",
       " 'lambda_1': Constraint(minimum=100, maximum=5000, name='lambda_1', latex_label='$\\\\Lambda_1$', unit=None),\n",
       " 'lambda_2': Constraint(minimum=100, maximum=5000, name='lambda_2', latex_label='$\\\\Lambda_2$', unit=None)}"
      ]
     },
     "execution_count": 6,
     "metadata": {},
     "output_type": "execute_result"
    }
   ],
   "source": [
    "del priors[\"lambda_1\"], priors[\"lambda_2\"], priors[\"mass_ratio\"]\n",
    "\n",
    "priors[\"chirp_mass\"] = bilby.core.prior.Gaussian(\n",
    "    1.215, 0.1, name=\"chirp_mass\", unit=\"$M_{\\\\odot}$\"\n",
    ")\n",
    "priors[\"symmetric_mass_ratio\"] = bilby.core.prior.Uniform(\n",
    "    0.1, 0.25, name=\"symmetric_mass_ratio\"\n",
    ")\n",
    "priors[\"lambda_tilde\"] = bilby.core.prior.Uniform(0, 5000, name=\"lambda_tilde\"\n",
    ")\n",
    "priors[\"delta_lambda_tilde\"] = bilby.core.prior.Uniform(\n",
    "    -500, 1000, name=\"delta_lambda_tilde\"\n",
    ")\n",
    "\n",
    "# constraining these parameters to prevent out of bounds sampling.\n",
    "priors[\"lambda_tilde\"] = bilby.core.prior.Constraint(\n",
    "    name=\"lambda_tilde\", minimum=0, maximum=5000\n",
    ")\n",
    "priors[\"delta_lambda_tilde\"] = bilby.core.prior.Constraint(\n",
    "    name=\"delta_lambda_tilde\", minimum=-500, maximum=1000\n",
    ")\n",
    "priors[\"lambda_1\"] = bilby.core.prior.Constraint(\n",
    "    name=\"lambda_1\", minimum=100, maximum=5000\n",
    ")\n",
    "priors[\"lambda_2\"] = bilby.core.prior.Constraint(\n",
    "    name=\"lambda_2\", minimum=100, maximum=5000\n",
    ")\n",
    "\n",
    "priors"
   ]
  },
  {
   "cell_type": "code",
   "execution_count": 7,
   "metadata": {},
   "outputs": [
    {
     "data": {
      "text/plain": [
       "{'chi_1': 0.02,\n",
       " 'chi_2': 0.02,\n",
       " 'luminosity_distance': 50.0,\n",
       " 'theta_jn': 0.4,\n",
       " 'psi': 2.659,\n",
       " 'phase': 1.3,\n",
       " 'geocent_time': 1126259642.413,\n",
       " 'ra': 1.375,\n",
       " 'dec': -1.2108,\n",
       " 'fiducial': 1,\n",
       " 'chirp_mass': 1.2150360414642816,\n",
       " 'mass_ratio': 0.8666666666666667,\n",
       " 'lambda_tilde': 867.9931562541493,\n",
       " 'delta_lambda_tilde': 95.05130053992274}"
      ]
     },
     "execution_count": 7,
     "metadata": {},
     "output_type": "execute_result"
    }
   ],
   "source": [
    "fiducial_parameters = injection_parameters.copy()\n",
    "m1 = fiducial_parameters.pop(\"mass_1\")\n",
    "m2 = fiducial_parameters.pop(\"mass_2\")\n",
    "fiducial_parameters[\"chirp_mass\"] = bilby.gw.conversion.component_masses_to_chirp_mass(\n",
    "    m1, m2) # Chirp mass (M) (one of the prameters being estimated)\n",
    "fiducial_parameters[\"mass_ratio\"] = m2 / m1\n",
    "\n",
    "l1=fiducial_parameters.pop(\"lambda_1\")\n",
    "l2=fiducial_parameters.pop(\"lambda_2\")\n",
    "\n",
    "fiducial_parameters[\"lambda_tilde\"] =bilby.gw.conversion.lambda_1_lambda_2_to_lambda_tilde(\n",
    "    l1,l2,m1,m2)\n",
    "fiducial_parameters[\"delta_lambda_tilde\"]=bilby.gw.conversion.lambda_1_lambda_2_to_delta_lambda_tilde(\n",
    "   l1,l2,m1,m2)\n",
    "\n",
    "\n",
    "fiducial_parameters"
   ]
  },
  {
   "cell_type": "code",
   "execution_count": 8,
   "metadata": {},
   "outputs": [
    {
     "name": "stderr",
     "output_type": "stream",
     "text": [
      "13:48 bilby INFO    : Loaded distance marginalisation lookup table from .distance_marginalization_lookup.npz.\n",
      "13:48 bilby INFO    : Initial fiducial waveforms set up\n",
      "13:48 bilby INFO    : Summary Data Obtained\n",
      "13:48 bilby INFO    : Fiducial likelihood: 1052.32\n"
     ]
    }
   ],
   "source": [
    "likelihood = bilby.gw.likelihood.RelativeBinningGravitationalWaveTransient(\n",
    "    interferometers=ifos,\n",
    "    waveform_generator=waveform_generator,\n",
    "    priors=priors,\n",
    "    distance_marginalization=True,\n",
    "    fiducial_parameters=fiducial_parameters,\n",
    ")"
   ]
  },
  {
   "cell_type": "code",
   "execution_count": 9,
   "metadata": {},
   "outputs": [
    {
     "name": "stderr",
     "output_type": "stream",
     "text": [
      "13:48 bilby WARNING : There are unused waveform kwargs. This is deprecated behavior and will\n",
      "result in an error in future releases. Make sure all of the waveform kwargs are correctly\n",
      "spelled.\n",
      "\n",
      "Unused waveform_kwargs: {'frequency_bin_edges': array([  40.     ,   41.4375 ,   42.96875,   44.625  ,   46.4375 ,\n",
      "         48.4375 ,   50.65625,   53.09375,   55.84375,   58.90625,\n",
      "         62.34375,   66.25   ,   70.71875,   75.84375,   81.75   ,\n",
      "         88.65625,   96.78125,  106.3125 ,  117.5625 ,  130.8125 ,\n",
      "        146.3125 ,  164.25   ,  184.65625,  207.3125 ,  231.9375 ,\n",
      "        258.     ,  285.09375,  312.75   ,  340.625  ,  368.4375 ,\n",
      "        396.03125,  423.25   ,  450.     ,  476.28125,  502.     ,\n",
      "        527.21875,  551.90625,  576.03125,  599.6875 ,  622.84375,\n",
      "        645.5    ,  667.71875,  689.5    ,  710.875  ,  731.8125 ,\n",
      "        752.375  ,  772.59375,  792.4375 ,  811.9375 ,  831.125  ,\n",
      "        850.     ,  868.5625 ,  886.84375,  904.84375,  922.59375,\n",
      "        940.09375,  957.3125 ,  974.3125 ,  991.09375, 1007.65625,\n",
      "       1023.96875])}\n",
      "\n"
     ]
    },
    {
     "name": "stdout",
     "output_type": "stream",
     "text": [
      "Reference waveform: {'plus': array([ 0.00000000e+00-0.00000000e+00j,  0.00000000e+00-0.00000000e+00j,\n",
      "        0.00000000e+00-0.00000000e+00j, ...,\n",
      "       -4.23008636e-25+7.98210938e-26j, -4.23011798e-25+7.97089719e-26j,\n",
      "        0.00000000e+00-0.00000000e+00j]), 'cross': array([0.00000000e+00+0.00000000e+00j, 0.00000000e+00+0.00000000e+00j,\n",
      "       0.00000000e+00+0.00000000e+00j, ...,\n",
      "       7.95519924e-26+4.21582544e-25j, 7.94402485e-26+4.21585695e-25j,\n",
      "       0.00000000e+00+0.00000000e+00j])}\n"
     ]
    }
   ],
   "source": [
    "reference_waveform = waveform_generator.frequency_domain_strain(fiducial_parameters)\n",
    "print(\"Reference waveform:\", reference_waveform)\n"
   ]
  },
  {
   "cell_type": "code",
   "execution_count": 10,
   "metadata": {},
   "outputs": [
    {
     "ename": "KeyError",
     "evalue": "'a_2'",
     "output_type": "error",
     "traceback": [
      "\u001b[0;31m---------------------------------------------------------------------------\u001b[0m",
      "\u001b[0;31mKeyError\u001b[0m                                  Traceback (most recent call last)",
      "Cell \u001b[0;32mIn[10], line 5\u001b[0m\n\u001b[1;32m      1\u001b[0m alt_likelihood \u001b[38;5;241m=\u001b[39m bilby\u001b[38;5;241m.\u001b[39mgw\u001b[38;5;241m.\u001b[39mlikelihood\u001b[38;5;241m.\u001b[39mGravitationalWaveTransient(\n\u001b[1;32m      2\u001b[0m     interferometers\u001b[38;5;241m=\u001b[39mifos,\n\u001b[1;32m      3\u001b[0m     waveform_generator\u001b[38;5;241m=\u001b[39mwaveform_generator,\n\u001b[1;32m      4\u001b[0m )\n\u001b[0;32m----> 5\u001b[0m \u001b[38;5;28mprint\u001b[39m(\u001b[38;5;124m\"\u001b[39m\u001b[38;5;124mLog Likelihood Test:\u001b[39m\u001b[38;5;124m\"\u001b[39m, alt_likelihood\u001b[38;5;241m.\u001b[39mlog_likelihood_ratio())\n",
      "File \u001b[0;32m~/anaconda3/envs/thesis/lib/python3.11/site-packages/bilby/gw/likelihood/base.py:408\u001b[0m, in \u001b[0;36mGravitationalWaveTransient.log_likelihood_ratio\u001b[0;34m(self)\u001b[0m\n\u001b[1;32m    406\u001b[0m \u001b[38;5;28;01mdef\u001b[39;00m \u001b[38;5;21mlog_likelihood_ratio\u001b[39m(\u001b[38;5;28mself\u001b[39m):\n\u001b[1;32m    407\u001b[0m     waveform_polarizations \u001b[38;5;241m=\u001b[39m \\\n\u001b[0;32m--> 408\u001b[0m         \u001b[38;5;28mself\u001b[39m\u001b[38;5;241m.\u001b[39mwaveform_generator\u001b[38;5;241m.\u001b[39mfrequency_domain_strain(\u001b[38;5;28mself\u001b[39m\u001b[38;5;241m.\u001b[39mparameters)\n\u001b[1;32m    409\u001b[0m     \u001b[38;5;28;01mif\u001b[39;00m waveform_polarizations \u001b[38;5;129;01mis\u001b[39;00m \u001b[38;5;28;01mNone\u001b[39;00m:\n\u001b[1;32m    410\u001b[0m         \u001b[38;5;28;01mreturn\u001b[39;00m np\u001b[38;5;241m.\u001b[39mnan_to_num(\u001b[38;5;241m-\u001b[39mnp\u001b[38;5;241m.\u001b[39minf)\n",
      "File \u001b[0;32m~/anaconda3/envs/thesis/lib/python3.11/site-packages/bilby/gw/waveform_generator.py:131\u001b[0m, in \u001b[0;36mWaveformGenerator.frequency_domain_strain\u001b[0;34m(self, parameters)\u001b[0m\n\u001b[1;32m    109\u001b[0m \u001b[38;5;28;01mdef\u001b[39;00m \u001b[38;5;21mfrequency_domain_strain\u001b[39m(\u001b[38;5;28mself\u001b[39m, parameters\u001b[38;5;241m=\u001b[39m\u001b[38;5;28;01mNone\u001b[39;00m):\n\u001b[1;32m    110\u001b[0m \u001b[38;5;250m    \u001b[39m\u001b[38;5;124;03m\"\"\" Wrapper to source_model.\u001b[39;00m\n\u001b[1;32m    111\u001b[0m \n\u001b[1;32m    112\u001b[0m \u001b[38;5;124;03m    Converts self.parameters with self.parameter_conversion before handing it off to the source model.\u001b[39;00m\n\u001b[0;32m   (...)\u001b[0m\n\u001b[1;32m    129\u001b[0m \n\u001b[1;32m    130\u001b[0m \u001b[38;5;124;03m    \"\"\"\u001b[39;00m\n\u001b[0;32m--> 131\u001b[0m     \u001b[38;5;28;01mreturn\u001b[39;00m \u001b[38;5;28mself\u001b[39m\u001b[38;5;241m.\u001b[39m_calculate_strain(model\u001b[38;5;241m=\u001b[39m\u001b[38;5;28mself\u001b[39m\u001b[38;5;241m.\u001b[39mfrequency_domain_source_model,\n\u001b[1;32m    132\u001b[0m                                   model_data_points\u001b[38;5;241m=\u001b[39m\u001b[38;5;28mself\u001b[39m\u001b[38;5;241m.\u001b[39mfrequency_array,\n\u001b[1;32m    133\u001b[0m                                   parameters\u001b[38;5;241m=\u001b[39mparameters,\n\u001b[1;32m    134\u001b[0m                                   transformation_function\u001b[38;5;241m=\u001b[39mutils\u001b[38;5;241m.\u001b[39mnfft,\n\u001b[1;32m    135\u001b[0m                                   transformed_model\u001b[38;5;241m=\u001b[39m\u001b[38;5;28mself\u001b[39m\u001b[38;5;241m.\u001b[39mtime_domain_source_model,\n\u001b[1;32m    136\u001b[0m                                   transformed_model_data_points\u001b[38;5;241m=\u001b[39m\u001b[38;5;28mself\u001b[39m\u001b[38;5;241m.\u001b[39mtime_array)\n",
      "File \u001b[0;32m~/anaconda3/envs/thesis/lib/python3.11/site-packages/bilby/gw/waveform_generator.py:171\u001b[0m, in \u001b[0;36mWaveformGenerator._calculate_strain\u001b[0;34m(self, model, model_data_points, transformation_function, transformed_model, transformed_model_data_points, parameters)\u001b[0m\n\u001b[1;32m    168\u001b[0m \u001b[38;5;28;01mdef\u001b[39;00m \u001b[38;5;21m_calculate_strain\u001b[39m(\u001b[38;5;28mself\u001b[39m, model, model_data_points, transformation_function, transformed_model,\n\u001b[1;32m    169\u001b[0m                       transformed_model_data_points, parameters):\n\u001b[1;32m    170\u001b[0m     \u001b[38;5;28;01mif\u001b[39;00m parameters \u001b[38;5;129;01mis\u001b[39;00m \u001b[38;5;129;01mnot\u001b[39;00m \u001b[38;5;28;01mNone\u001b[39;00m:\n\u001b[0;32m--> 171\u001b[0m         \u001b[38;5;28mself\u001b[39m\u001b[38;5;241m.\u001b[39mparameters \u001b[38;5;241m=\u001b[39m parameters\n\u001b[1;32m    172\u001b[0m     \u001b[38;5;28;01mif\u001b[39;00m \u001b[38;5;28mself\u001b[39m\u001b[38;5;241m.\u001b[39mparameters \u001b[38;5;241m==\u001b[39m \u001b[38;5;28mself\u001b[39m\u001b[38;5;241m.\u001b[39m_cache[\u001b[38;5;124m'\u001b[39m\u001b[38;5;124mparameters\u001b[39m\u001b[38;5;124m'\u001b[39m] \u001b[38;5;129;01mand\u001b[39;00m \u001b[38;5;28mself\u001b[39m\u001b[38;5;241m.\u001b[39m_cache[\u001b[38;5;124m'\u001b[39m\u001b[38;5;124mmodel\u001b[39m\u001b[38;5;124m'\u001b[39m] \u001b[38;5;241m==\u001b[39m model \u001b[38;5;129;01mand\u001b[39;00m \\\n\u001b[1;32m    173\u001b[0m             \u001b[38;5;28mself\u001b[39m\u001b[38;5;241m.\u001b[39m_cache[\u001b[38;5;124m'\u001b[39m\u001b[38;5;124mtransformed_model\u001b[39m\u001b[38;5;124m'\u001b[39m] \u001b[38;5;241m==\u001b[39m transformed_model:\n\u001b[1;32m    174\u001b[0m         \u001b[38;5;28;01mreturn\u001b[39;00m \u001b[38;5;28mself\u001b[39m\u001b[38;5;241m.\u001b[39m_cache[\u001b[38;5;124m'\u001b[39m\u001b[38;5;124mwaveform\u001b[39m\u001b[38;5;124m'\u001b[39m]\n",
      "File \u001b[0;32m~/anaconda3/envs/thesis/lib/python3.11/site-packages/bilby/gw/waveform_generator.py:237\u001b[0m, in \u001b[0;36mWaveformGenerator.parameters\u001b[0;34m(self, parameters)\u001b[0m\n\u001b[1;32m    234\u001b[0m new_parameters, _ \u001b[38;5;241m=\u001b[39m \u001b[38;5;28mself\u001b[39m\u001b[38;5;241m.\u001b[39mparameter_conversion(new_parameters)\n\u001b[1;32m    235\u001b[0m \u001b[38;5;28;01mfor\u001b[39;00m key \u001b[38;5;129;01min\u001b[39;00m \u001b[38;5;28mself\u001b[39m\u001b[38;5;241m.\u001b[39msource_parameter_keys\u001b[38;5;241m.\u001b[39msymmetric_difference(\n\u001b[1;32m    236\u001b[0m         new_parameters):\n\u001b[0;32m--> 237\u001b[0m     new_parameters\u001b[38;5;241m.\u001b[39mpop(key)\n\u001b[1;32m    238\u001b[0m \u001b[38;5;28mself\u001b[39m\u001b[38;5;241m.\u001b[39m__parameters \u001b[38;5;241m=\u001b[39m new_parameters\n\u001b[1;32m    239\u001b[0m \u001b[38;5;28mself\u001b[39m\u001b[38;5;241m.\u001b[39m__parameters\u001b[38;5;241m.\u001b[39mupdate(\u001b[38;5;28mself\u001b[39m\u001b[38;5;241m.\u001b[39mwaveform_arguments)\n",
      "\u001b[0;31mKeyError\u001b[0m: 'a_2'"
     ]
    }
   ],
   "source": [
    "alt_likelihood = bilby.gw.likelihood.GravitationalWaveTransient(\n",
    "    interferometers=ifos,\n",
    "    waveform_generator=waveform_generator,\n",
    ")\n",
    "print(\"Log Likelihood Test:\", alt_likelihood.log_likelihood_ratio())\n"
   ]
  },
  {
   "cell_type": "code",
   "execution_count": null,
   "metadata": {},
   "outputs": [],
   "source": []
  }
 ],
 "metadata": {
  "kernelspec": {
   "display_name": "thesis",
   "language": "python",
   "name": "thesis"
  },
  "language_info": {
   "codemirror_mode": {
    "name": "ipython",
    "version": 3
   },
   "file_extension": ".py",
   "mimetype": "text/x-python",
   "name": "python",
   "nbconvert_exporter": "python",
   "pygments_lexer": "ipython3",
   "version": "3.11.8"
  }
 },
 "nbformat": 4,
 "nbformat_minor": 2
}
