{
 "cells": [
  {
   "cell_type": "markdown",
   "metadata": {},
   "source": [
    "# Linear Regression"
   ]
  },
  {
   "cell_type": "code",
   "execution_count": 6,
   "metadata": {},
   "outputs": [],
   "source": [
    "from sklearn.linear_model import LinearRegression\n",
    "import matplotlib.pyplot as plt\n",
    "import numpy as np\n",
    "%matplotlib widget"
   ]
  },
  {
   "cell_type": "code",
   "execution_count": null,
   "metadata": {},
   "outputs": [],
   "source": [
    "# Regression model\n",
    "reg=LinearRegression()\n",
    "\n",
    "# Data\n",
    "x=np.array([1,2,3,4,5,6]).reshape(-1, 1) # Predictor\n",
    "y=np.array([2, 2.5, 4.5, 3, 5, 4.7]) # Target\n",
    "plt.plot(x,y, 'go', label=\"points\")\n",
    "\n",
    "# line of best fit\n",
    "line=reg.fit(x, y)\n",
    "\n",
    "# to predict values of y\n",
    "y_pred=reg.predict(x)\n",
    "\n",
    "# Plot the line of best fit\n",
    "plt.plot(x, y_pred,color=\"red\", label=\"Line of best fit\")\n",
    "\n",
    "# Add labels and legend\n",
    "plt.xlabel(\"X\")\n",
    "plt.ylabel(\"Y\")\n",
    "plt.legend()\n",
    "plt.title(\"Linear Regression Line of Best Fit\")\n",
    "plt.show()"
   ]
  },
  {
   "cell_type": "code",
   "execution_count": null,
   "metadata": {},
   "outputs": [],
   "source": []
  }
 ],
 "metadata": {
  "kernelspec": {
   "display_name": "thesis",
   "language": "python",
   "name": "thesis"
  },
  "language_info": {
   "codemirror_mode": {
    "name": "ipython",
    "version": 3
   },
   "file_extension": ".py",
   "mimetype": "text/x-python",
   "name": "python",
   "nbconvert_exporter": "python",
   "pygments_lexer": "ipython3",
   "version": "3.11.8"
  }
 },
 "nbformat": 4,
 "nbformat_minor": 2
}
