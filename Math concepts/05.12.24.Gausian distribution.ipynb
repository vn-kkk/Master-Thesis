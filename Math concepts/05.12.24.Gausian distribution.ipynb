{
 "cells": [
  {
   "cell_type": "markdown",
   "metadata": {},
   "source": [
    "# Gausian Distribution"
   ]
  },
  {
   "cell_type": "code",
   "execution_count": 1,
   "metadata": {},
   "outputs": [],
   "source": [
    "import numpy as np\n",
    "import matplotlib.pyplot as plt\n",
    "from scipy.stats import norm\n",
    "import math\n",
    "%matplotlib widget"
   ]
  },
  {
   "cell_type": "code",
   "execution_count": null,
   "metadata": {},
   "outputs": [],
   "source": [
    "mu=3 # The mean\n",
    "variance=16 # the average squared distance of each data point from the mean \n",
    "sigma=math.sqrt(variance) # The standard deviation. \n",
    "# How far of the points are spread from the mean. \n",
    "N=100 # The size of the dataset. \n",
    "# Higher this value the more accurately the values are distributed around the mean\n",
    "data=np.random.normal(mu, sigma, N) # Generate a random normal distribution of data\n",
    "data2=np.random.normal(mu, 10, N)\n",
    "\n",
    "plt.figure(figsize=(11.5,10.5))\n",
    "\n",
    "plt.subplot(2,2,1) # two rows, two columns and this is the first plot\n",
    "plt.title('Gaussian Normal Distribution')\n",
    "\n",
    "plt.plot(data,'co', markersize=4)\n",
    "plt.plot(data2,'r+', markersize=5)\n",
    "\n",
    "plt.xlabel(f'Index with SD of {sigma}')\n",
    "plt.ylabel('value of the randomly generated data')\n",
    "mean=np.mean(data)\n",
    "plt.axhline(mean,color='g', ls='--', label=f'Mean={mu}')\n",
    "plt.legend(loc='lower left')\n",
    "\n",
    "\n",
    "plt.subplot(2,2,3) # two rows, two columns and this is the second plot\n",
    "plt.title('Normal distribution with pdf')\n",
    "\n",
    "x_values=np.linspace(mu - 4*sigma, mu + 4*sigma, N) #Generate a random distribution of data\n",
    "# that ranges from -4sigma to +4sigma\n",
    "pdf_values = norm.pdf(x_values, mu, sigma)\n",
    "\n",
    "plt.hist(data, color='r', bins=15, alpha=0.4, density=True, label='Normal Data Histogram')\n",
    "plt.plot(x_values, pdf_values, 'c', label='Normal Distribution fit')\n",
    "plt.xlabel(f'Value with mean={mu}')\n",
    "plt.ylabel('Density')\n",
    "plt.legend(loc='upper right')\n",
    "\n",
    "...\n",
    "\n",
    "plt.subplot(2,2,2) # two rows, two columns and this is the third plot\n",
    "plt.title('Gaussian Exponential Distribution')\n",
    "data3=np.random.exponential(7, N)\n",
    "\n",
    "plt.plot(data,'co', markersize=4)\n",
    "plt.plot(data3,'r+', markersize=5)\n",
    "\n",
    "plt.xlabel(f'Index with SD={sigma}')\n",
    "plt.ylabel('value of the randomly generated data')\n",
    "mean=np.mean(data)\n",
    "plt.axhline(mean,color='g', ls='--', label=f'Mean={mu}')\n",
    "plt.legend(loc='upper right')\n",
    "\n",
    "\n",
    "plt.subplot(2,2,4) # two rows, two columns and this is the fourth plot\n",
    "plt.title('Exponential distribution with pdf')\n",
    "\n",
    "x_values=np.linspace(mu - 4*sigma, mu + 4*sigma, N)\n",
    "pdf_values = norm.pdf(x_values, mu, sigma)\n",
    "\n",
    "plt.hist(data3, color='r', bins=15, alpha=0.4, density=True,  label='Exponential Data Histogram')\n",
    "plt.plot(x_values, pdf_values, 'c', label='Normal Distribution fit')\n",
    "plt.xlabel(f'Value with mean={mu}')\n",
    "plt.ylabel('Density')\n",
    "plt.legend(loc='upper right')"
   ]
  }
 ],
 "metadata": {
  "kernelspec": {
   "display_name": "thesis",
   "language": "python",
   "name": "thesis"
  },
  "language_info": {
   "codemirror_mode": {
    "name": "ipython",
    "version": 3
   },
   "file_extension": ".py",
   "mimetype": "text/x-python",
   "name": "python",
   "nbconvert_exporter": "python",
   "pygments_lexer": "ipython3",
   "version": "3.11.8"
  }
 },
 "nbformat": 4,
 "nbformat_minor": 2
}
