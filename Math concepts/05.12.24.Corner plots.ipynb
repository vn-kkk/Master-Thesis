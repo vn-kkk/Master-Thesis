{
 "cells": [
  {
   "cell_type": "code",
   "execution_count": null,
   "metadata": {},
   "outputs": [],
   "source": [
    "import corner\n",
    "import numpy as np\n",
    "import matplotlib.pyplot as plt\n",
    "%matplotlib widget\n",
    "\n",
    "# Generate example data: 3 parameters, 500 samples each\n",
    "mean=[0, 1, 2]\n",
    "data = np.random.multivariate_normal(\n",
    "    mean=mean,\n",
    "    cov=[[1, 0.5, -0.2], [0.5, 1, -0.3], [-0.2, -0.3, 1]], \n",
    "    size=50000,\n",
    ")\n",
    "\n",
    "# Create the corner plot\n",
    "figure = corner.corner(\n",
    "    data,\n",
    "    labels=[\"Param 1\", \"Param 2\", \"Param 3\"],  # Axis labels\n",
    "    show_titles=True,                          # Show 1D histogram titles\n",
    "    title_fmt=\".2f\",                           # Format for titles\n",
    ")\n",
    "\n",
    "# Overlay lines for the mean values\n",
    "axes = np.array(figure.axes).reshape((3, 3))  # Reshape into 3x3 grid of subplots\n",
    "for i in range(3):  # Iterate over diagonal plots\n",
    "    ax = axes[i, i]  # Get the diagonal axis (1D histogram)\n",
    "    ax.axvline(mean[i], color=\"red\", linestyle=\"--\", label=f\"Mean {i+1}\")\n",
    "    ax.legend() # Add legend to the first diagonal axis\n",
    "\n",
    "# Display the plot\n",
    "plt.show()"
   ]
  }
 ],
 "metadata": {
  "kernelspec": {
   "display_name": "thesis",
   "language": "python",
   "name": "thesis"
  },
  "language_info": {
   "codemirror_mode": {
    "name": "ipython",
    "version": 3
   },
   "file_extension": ".py",
   "mimetype": "text/x-python",
   "name": "python",
   "nbconvert_exporter": "python",
   "pygments_lexer": "ipython3",
   "version": "3.11.8"
  }
 },
 "nbformat": 4,
 "nbformat_minor": 2
}
