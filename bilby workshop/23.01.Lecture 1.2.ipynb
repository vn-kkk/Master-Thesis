{
 "cells": [
  {
   "cell_type": "markdown",
   "metadata": {},
   "source": [
    "# Peak finding algorithm\n",
    "\n",
    "Finds the highest likelihood value but does not give any information on the shape of the distribution."
   ]
  },
  {
   "cell_type": "markdown",
   "metadata": {},
   "source": [
    "# Metropolis-Hastings algorithm\n",
    "\n",
    "This gives us the distribution due to its inherent randomness."
   ]
  },
  {
   "cell_type": "markdown",
   "metadata": {},
   "source": [
    "The sampler will have a list of points that are sampled from the posterior distribution including many repeated points.\n",
    "When these points are \"cleaned\" and binned into a histogram we get a nice representation of that posterior distribution.\\\n",
    "The same thing that we did before we the grid we are now doing with a histogram. \n",
    "\n",
    "When we run a stochastic sampler this is the key output. this is what will give us the value of that parameter along with the confidence intervals"
   ]
  }
 ],
 "metadata": {
  "language_info": {
   "name": "python"
  }
 },
 "nbformat": 4,
 "nbformat_minor": 2
}
