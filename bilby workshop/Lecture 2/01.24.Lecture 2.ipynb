{
 "cells": [
  {
   "cell_type": "markdown",
   "metadata": {},
   "source": [
    "# Bilby_pipe and clusters\n",
    "\n",
    "This can be seen from the git repos:\n",
    "https://github.com/GregoryAshton/GWParameterEstimationWorkshop2020/blob/master/pages/getting-started-pipe.md\n",
    "\n",
    "or in the getting-started-pipe.md file in this Lecture 2 folder\n"
   ]
  }
 ],
 "metadata": {
  "language_info": {
   "name": "python"
  }
 },
 "nbformat": 4,
 "nbformat_minor": 2
}
