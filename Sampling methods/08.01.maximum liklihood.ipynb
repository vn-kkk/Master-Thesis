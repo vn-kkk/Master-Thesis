{
 "cells": [
  {
   "cell_type": "code",
   "execution_count": 3,
   "metadata": {},
   "outputs": [],
   "source": [
    "import numpy as np\n",
    "import matplotlib.pyplot as plt\n",
    "from scipy.stats import norm\n",
    "    \n",
    "%matplotlib widget"
   ]
  },
  {
   "cell_type": "code",
   "execution_count": null,
   "metadata": {},
   "outputs": [],
   "source": [
    "# Plotting a random normal distribution\n",
    "\n",
    "mean=0\n",
    "SD=5\n",
    "N=100\n",
    "\n",
    "# this produces a set of N random data points around a mean with a SD.\n",
    "x=np.random.normal(mean,SD,N)\n",
    "\n",
    "plt.figure()\n",
    "\n",
    "plt.plot(x, 'o', markersize=3) \n",
    "plt.axhline(mean, color='r')\n",
    "plt.show()"
   ]
  },
  {
   "cell_type": "code",
   "execution_count": null,
   "metadata": {},
   "outputs": [],
   "source": [
    "# Plotting the PDF of the normal distribution with uniformly arranged points\n",
    "\n",
    "# this produces a probability density function around the mean with a SD\n",
    "x_axis=np.arange(-20,20,1)\n",
    "\n",
    "m=np.mean(x_axis)\n",
    "sd=np.std(x_axis)\n",
    "\n",
    "# on the x axis we have a set of numbers spaced evenly between -20 and 20\n",
    "# on the y axis we have the normalized pdf for those set of numbers\n",
    "plt.figure()\n",
    "plt.plot(x_axis, norm. pdf(x_axis,m,sd), 'o')\n",
    "plt.axvline(m,color='r')\n",
    "plt.show()\n"
   ]
  },
  {
   "cell_type": "markdown",
   "metadata": {},
   "source": [
    "In a function:\n",
    "\n",
    "Positional arguments: The first set of argument values given to a funtion without the need for mentioning keywords.\n",
    "They are order specific. They are not mandatory.\n",
    "\n",
    "Mandatory arguments: They must definitey be passed while calling the funtion.\n",
    "\n",
    "Keyword arguments: The next set of argument values given that need to mentioned with keywords. They come after the positional arguments when passing values into a function.\n",
    "\n",
    "Optional arguments: They may or maynot be specified while calling the function.\n",
    "\n",
    "\n",
    "Eg: norm.rvs(10, 2.5, size=50)\\\n",
    "Here loc = 10 and scale=2.5 are positional arguments and size=50 is a keywork argument. "
   ]
  },
  {
   "cell_type": "code",
   "execution_count": null,
   "metadata": {},
   "outputs": [],
   "source": [
    "# Plotting the pdf of a random normal distribution.\n",
    "\n",
    "data = norm.rvs(loc=10 , scale= 1, size=50) #(mean, SD, size)\n",
    "plt.figure()\n",
    "plt.plot(data, norm.pdf(data, np.mean(data), np.std(data)), 'o', markersize=3)\n",
    "plt.axvline(np.mean(data),color='r')"
   ]
  },
  {
   "cell_type": "code",
   "execution_count": null,
   "metadata": {},
   "outputs": [],
   "source": [
    "# Plotting \n",
    "\n",
    "data=[-20, -4, -15, -9, 4, 13, 17, 0, 6, -4]\n",
    "sorted_data=sorted(data)\n",
    "y=[0]*len(data)\n",
    "\n",
    "plt.figure()\n",
    "plt.plot(data,y,'o') # just to see the dots on the x axis\n",
    "plt.plot(data, norm.pdf(data, np.mean(data), np.std(data)),'og') # the pdf of a normal distribution fit\n",
    "plt.plot(sorted_data, norm.pdf(sorted_data, np.mean(sorted_data), np.std(sorted_data))) \n",
    "# the pdf of a normal distribution fit as a continuous line\n",
    "\n",
    "plt.axvline(np.mean(data),color='r', label='mean')\n",
    "plt.legend()\n"
   ]
  }
 ],
 "metadata": {
  "kernelspec": {
   "display_name": "thesis",
   "language": "python",
   "name": "thesis"
  },
  "language_info": {
   "codemirror_mode": {
    "name": "ipython",
    "version": 3
   },
   "file_extension": ".py",
   "mimetype": "text/x-python",
   "name": "python",
   "nbconvert_exporter": "python",
   "pygments_lexer": "ipython3",
   "version": "3.11.8"
  }
 },
 "nbformat": 4,
 "nbformat_minor": 2
}
