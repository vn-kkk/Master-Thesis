{
 "cells": [
  {
   "cell_type": "markdown",
   "metadata": {},
   "source": [
    "<h1>\n",
    "If a dart is thrown at a square with sides of 2 units what is the probability that it lands within a cirlce in the square of radius of 1 unit.\n",
    "</h1>"
   ]
  },
  {
   "cell_type": "code",
   "execution_count": null,
   "metadata": {},
   "outputs": [],
   "source": [
    "import random\n",
    "import numpy as np\n",
    "\n",
    "N, circ=10000000, 0 # N is the number of trials of dart throws  \n",
    "for i in range(1,N):\n",
    "    x=random.uniform(-1,1) # generates a random floating number between the given range\n",
    "    y=random.uniform(-1,1)\n",
    "    # this (x,y) is the random coordinate where the dart lands within the square\n",
    "    if np.square(x)+np.square(y) <=1: \n",
    "        # to check if a dart is inlllside the circle it has to satisfy the equation of a cirlce:\n",
    "        # (x-a)^2 + (y-b)^2 = r^2, where (x,y) is the point on the circumference, (a,b) is the origin and r is the radius\n",
    "        circ+=1 # circ keeps a track of all the darts that landed inside the circle\n",
    "print(\"Total number of simulated points (dart throws):\",N)\n",
    "print(\"Number of darts that landed within the circle:\",circ)\n",
    "print(\"Fraction of total darts that ended up in the circle:\",circ/N)"
   ]
  },
  {
   "cell_type": "markdown",
   "metadata": {},
   "source": [
    "<h1>\n",
    "In a game, the probability of winning a round is: P(win)=p, for each round. The game ends when you loose two times in a row. What is the expected number of rounds played on average.\n",
    "</h1>"
   ]
  },
  {
   "cell_type": "code",
   "execution_count": null,
   "metadata": {},
   "outputs": [],
   "source": [
    "N=10000000\n",
    "rounds=[] # store the value for the number of rounds played\n",
    "p=0.5\n",
    "for i in range(N):\n",
    "    r=0\n",
    "    nloss=0 # stores the value for the number of losses in a row\n",
    "    while nloss!=2:\n",
    "        r+=1\n",
    "        if random.uniform(0,1)<p:\n",
    "            nloss=0 # if you win the round the number of continuous losses is 0\n",
    "        else:\n",
    "            nloss+=1\n",
    "    rounds.append(r)\n",
    "\n",
    "print(\"Number of rounds played until you incur two consecutive losses:\", np.mean(rounds))"
   ]
  }
 ],
 "metadata": {
  "kernelspec": {
   "display_name": "thesis",
   "language": "python",
   "name": "thesis"
  },
  "language_info": {
   "codemirror_mode": {
    "name": "ipython",
    "version": 3
   },
   "file_extension": ".py",
   "mimetype": "text/x-python",
   "name": "python",
   "nbconvert_exporter": "python",
   "pygments_lexer": "ipython3",
   "version": "3.11.8"
  }
 },
 "nbformat": 4,
 "nbformat_minor": 2
}
